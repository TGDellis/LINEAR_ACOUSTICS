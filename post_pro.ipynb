{
 "cells": [
  {
   "cell_type": "code",
   "execution_count": null,
   "metadata": {},
   "outputs": [],
   "source": [
    "import numpy as np\n",
    "import pandas as pd\n",
    "import matplotlib.pyplot as plt\n",
    "import time\n",
    "import os\n",
    "import cv2\n",
    "from matplotlib import colormaps as cmap"
   ]
  },
  {
   "cell_type": "markdown",
   "metadata": {},
   "source": [
    "TIME SPACE DISCRETIZATION PARAMETERS \n"
   ]
  },
  {
   "cell_type": "code",
   "execution_count": null,
   "metadata": {},
   "outputs": [],
   "source": [
    "n = 201\n",
    "m = 201\n",
    "dt = 1e-3\n",
    "t_total = 0.8\n",
    "DL = 130\n",
    "N = n + 2 * DL-1\n",
    "M = m + 2 * DL-1"
   ]
  },
  {
   "cell_type": "code",
   "execution_count": null,
   "metadata": {},
   "outputs": [],
   "source": [
    "df = pd.read_csv(\"fields.txt\",delim_whitespace=True)\n",
    "df_1 = pd.read_csv(\"fields_1.txt\",delim_whitespace=True)\n",
    "df_2 = pd.read_csv(\"fields_2.txt\",delim_whitespace=True)\n",
    "# df_2 = pd.read_csv(\"sd\")"
   ]
  },
  {
   "cell_type": "code",
   "execution_count": null,
   "metadata": {},
   "outputs": [],
   "source": [
    "np.array(df[\"y\"])"
   ]
  },
  {
   "cell_type": "code",
   "execution_count": null,
   "metadata": {},
   "outputs": [],
   "source": [
    "x = np.array(df_1[\"x\"])\n",
    "y = np.array((df_1[\"y\"]))\n",
    "rho = np.array(df[\"rho\"])\n",
    "u= np.array(df[\"u\"])\n",
    "v= np.array(df[\"v\"])\n",
    "rho_1 = np.array(df_1[\"rho\"])\n",
    "u_1 = np.array(df_1[\"u\"])\n",
    "v_1 = np.array(df_1[\"v\"])\n",
    "rho_2 = np.array(df_2[\"rho\"])\n",
    "u_2 = np.array(df_2[\"u\"])\n",
    "v_2 = np.array(df_2[\"v\"])"
   ]
  },
  {
   "cell_type": "code",
   "execution_count": null,
   "metadata": {},
   "outputs": [],
   "source": [
    "rho_mat = np.empty((N,M))\n",
    "x_mat = np.empty((N,M))\n",
    "y_mat = np.empty((N,M))\n",
    "u_mat = np.empty((N,M))\n",
    "p_mat = np.empty((N,M))\n",
    "rho_mat_1 = np.empty((N,M))\n",
    "x_mat_1 = np.empty((N,M))\n",
    "y_mat_1 = np.empty((N,M))\n",
    "u_mat_1 = np.empty((N,M))\n",
    "p_mat_1 = np.empty((N,M))\n",
    "rho_mat_2 = np.empty((N,M))\n",
    "x_mat_2 = np.empty((N,M))\n",
    "y_mat_2 = np.empty((N,M))\n",
    "u_mat_2 = np.empty((N,M))\n",
    "p_mat_2 = np.empty((N,M))\n",
    "\n",
    "v_mat_1 = np.empty((N,M))\n",
    "v_mat_2 = np.empty((N,M))\n",
    "v_mat = np.empty((N,M))\n",
    "k = 0\n",
    "for i in range(0,N):\n",
    "    for j in range(0,M):\n",
    "        rho_mat[i,j] = rho[k]\n",
    "        x_mat[i,j] = x[k]\n",
    "        y_mat[i,j] = y[k]\n",
    "        u_mat[i,j] = u[k]\n",
    "        v_mat[i,j] = v[k]\n",
    "        p_mat[i][j] = rho_mat[i,j]*(340**2)\n",
    "        \n",
    "        rho_mat_1[i,j] = rho_1[k]\n",
    "        u_mat_1[i,j] = u_1[k]\n",
    "        v_mat_1[i,j] = v_1[k]\n",
    "        p_mat_1[i][j] = rho_mat_1[i,j]*(340**2)\n",
    "\n",
    "        rho_mat_2[i, j] = rho_2[k]\n",
    "        x_mat_2[i, j] = x[k]\n",
    "        y_mat_2[i, j] = y[k]\n",
    "        u_mat_2[i, j] = u_2[k]\n",
    "        v_mat_2[i, j] = v_2[k]\n",
    "        p_mat_2[i][j] = rho_mat_2[i, j] * (340**2)\n",
    "        k = k + 1\n"
   ]
  },
  {
   "cell_type": "code",
   "execution_count": null,
   "metadata": {},
   "outputs": [],
   "source": [
    "bound = []\n",
    "x_b = []\n",
    "for k in range(0,170):\n",
    "    bound.append(np.max(p_mat[k][:]))\n",
    "    x_b.append(x_mat[k,:][0])\n",
    "plt.plot(x_b,bound)\n",
    "plt.title(\"BUFFER_ZONE VALIDATION\")\n",
    "plt.xlabel(\"x (m)\")\n",
    "plt.ylabel(\"P (Pa)\")\n",
    "plt.grid()"
   ]
  },
  {
   "cell_type": "code",
   "execution_count": null,
   "metadata": {},
   "outputs": [],
   "source": [
    "L = 100+DL\n",
    "\n",
    "fig, ax = plt.subplots(1, 1)\n",
    "cp = ax.contourf(x_mat, y_mat, p_mat, levels=25, cmap = \"turbo\")\n",
    "x_r = np.linspace(0, 100, 100)\n",
    "y_r = np.sqrt(1e4 - x_r**2)\n",
    "fig.colorbar(cp)  # Add a colorbar to a plot\n",
    "ax.set_title(\"Acoustic Pressure (Pa) t = 0.8s\")\n",
    "ax.set_xlabel(\"x (m)\")\n",
    "ax.set_ylabel(\"y (m)\")\n",
    "ax.plot(x_r, y_r, color=\"black\")\n",
    "ax.plot(-x_r, y_r, color=\"black\")\n",
    "ax.plot(-x_r, -y_r, color=\"black\")\n",
    "ax.plot(x_r, -y_r, color=\"black\")\n",
    "ax.set_xlim(-L, L)\n",
    "ax.set_ylim(-L, L)\n",
    "plt.show()"
   ]
  },
  {
   "cell_type": "code",
   "execution_count": null,
   "metadata": {},
   "outputs": [],
   "source": [
    "L = 100 + DL\n",
    "\n",
    "fig, ax = plt.subplots(1, 1)\n",
    "cp = ax.contourf(x_mat, y_mat, u_mat, levels=25,cmap = \"turbo\")\n",
    "x_r = np.linspace(0, 100, 100)\n",
    "y_r = np.sqrt(1e4 - x_r**2)\n",
    "fig.colorbar(cp)  # Add a colorbar to a plot\n",
    "ax.set_title(\"Acoustic U (m/s) t = 0.8s\")\n",
    "ax.set_xlabel(\"x (m)\")\n",
    "ax.set_ylabel(\"y (m)\")\n",
    "ax.plot(x_r, y_r, color=\"black\")\n",
    "ax.plot(-x_r, y_r, color=\"black\")\n",
    "ax.plot(-x_r, -y_r, color=\"black\")\n",
    "ax.plot(x_r, -y_r, color=\"black\")\n",
    "ax.set_xlim(-L, L)\n",
    "ax.set_ylim(-L, L)\n",
    "plt.show()"
   ]
  },
  {
   "cell_type": "code",
   "execution_count": null,
   "metadata": {},
   "outputs": [],
   "source": [
    "L = 100 + DL\n",
    "\n",
    "fig, ax = plt.subplots(1, 1)\n",
    "cp = ax.contourf(x_mat, y_mat, v_mat, levels=25, cmap=\"turbo\")\n",
    "x_r = np.linspace(0, 100, 100)\n",
    "y_r = np.sqrt(1e4 - x_r**2)\n",
    "fig.colorbar(cp)  # Add a colorbar to a plot\n",
    "ax.set_title(\"Acoustic V (m/s) t = 0.8s\")\n",
    "ax.set_xlabel(\"x (m)\")\n",
    "ax.set_ylabel(\"y (m)\")\n",
    "ax.plot(x_r, y_r, color=\"black\")\n",
    "ax.plot(-x_r, y_r, color=\"black\")\n",
    "ax.plot(-x_r, -y_r, color=\"black\")\n",
    "ax.plot(x_r, -y_r, color=\"black\")\n",
    "ax.set_xlim(-L, L)\n",
    "ax.set_ylim(-L, L)\n",
    "plt.show()"
   ]
  },
  {
   "cell_type": "code",
   "execution_count": null,
   "metadata": {},
   "outputs": [],
   "source": [
    "L = 100 + DL\n",
    "\n",
    "fig, ax = plt.subplots(1, 1)\n",
    "cp = ax.contourf(x_mat, y_mat, p_mat_1, levels=25, cmap=\"turbo\")\n",
    "x_r = np.linspace(0, 100, 100)\n",
    "y_r = np.sqrt(1e4 - x_r**2)\n",
    "fig.colorbar(cp)  # Add a colorbar to a plot\n",
    "ax.set_title(\"Acoustic Pressure (Pa) t = 0.15 s\")\n",
    "ax.set_xlabel(\"x (m)\")\n",
    "ax.set_ylabel(\"y (m)\")\n",
    "ax.plot(x_r, y_r, color=\"black\")\n",
    "ax.plot(-x_r, y_r, color=\"black\")\n",
    "ax.plot(-x_r, -y_r, color=\"black\")\n",
    "ax.plot(x_r, -y_r, color=\"black\")\n",
    "ax.set_xlim(-L, L)\n",
    "ax.set_ylim(-L, L)\n",
    "plt.show()"
   ]
  },
  {
   "cell_type": "code",
   "execution_count": null,
   "metadata": {},
   "outputs": [],
   "source": [
    "L = 100 + DL\n",
    "\n",
    "fig, ax = plt.subplots(1, 1)\n",
    "cp = ax.contourf(x_mat, y_mat, v_mat_1, levels=25, cmap=\"turbo\")\n",
    "x_r = np.linspace(0, 100, 100)\n",
    "y_r = np.sqrt(1e4 - x_r**2)\n",
    "fig.colorbar(cp)  # Add a colorbar to a plot\n",
    "ax.set_title(\"Acoustic V (m/s) t = 0.15s\")\n",
    "ax.set_xlabel(\"x (m)\")\n",
    "ax.set_ylabel(\"y (m)\")\n",
    "ax.plot(x_r, y_r, color=\"black\")\n",
    "ax.plot(-x_r, y_r, color=\"black\")\n",
    "ax.plot(-x_r, -y_r, color=\"black\")\n",
    "ax.plot(x_r, -y_r, color=\"black\")\n",
    "ax.set_xlim(-L, L)\n",
    "ax.set_ylim(-L, L)\n",
    "plt.show()"
   ]
  },
  {
   "cell_type": "code",
   "execution_count": null,
   "metadata": {},
   "outputs": [],
   "source": [
    "L = 100 + DL\n",
    "\n",
    "fig, ax = plt.subplots(1, 1)\n",
    "cp = ax.contourf(x_mat, y_mat, u_mat_1, levels=25, cmap=\"turbo\")\n",
    "x_r = np.linspace(0, 100, 100)\n",
    "y_r = np.sqrt(1e4 - x_r**2)\n",
    "fig.colorbar(cp)  # Add a colorbar to a plot\n",
    "ax.set_title(\"Acoustic U (m/s) t = 0.15s\")\n",
    "ax.set_xlabel(\"x (m)\")\n",
    "ax.set_ylabel(\"y (m)\")\n",
    "ax.plot(x_r, y_r, color=\"black\")\n",
    "ax.plot(-x_r, y_r, color=\"black\")\n",
    "ax.plot(-x_r, -y_r, color=\"black\")\n",
    "ax.plot(x_r, -y_r, color=\"black\")\n",
    "ax.set_xlim(-L, L)\n",
    "ax.set_ylim(-L, L)\n",
    "plt.show()"
   ]
  },
  {
   "cell_type": "code",
   "execution_count": null,
   "metadata": {},
   "outputs": [],
   "source": [
    "L = 100 + DL\n",
    "\n",
    "fig, ax = plt.subplots(1, 1)\n",
    "cp = ax.contourf(x_mat, y_mat, p_mat_2, levels=25, cmap=\"turbo\")\n",
    "x_r = np.linspace(0, 100, 100)\n",
    "y_r = np.sqrt(1e4 - x_r**2)\n",
    "fig.colorbar(cp)  # Add a colorbar to a plot\n",
    "ax.set_title(\"Acoustic Pressure (Pa) t = 0.4 s\")\n",
    "ax.set_xlabel(\"x (m)\")\n",
    "ax.set_ylabel(\"y (m)\")\n",
    "ax.plot(x_r, y_r, color=\"black\")\n",
    "ax.plot(-x_r, y_r, color=\"black\")\n",
    "ax.plot(-x_r, -y_r, color=\"black\")\n",
    "ax.plot(x_r, -y_r, color=\"black\")\n",
    "ax.set_xlim(-L, L)\n",
    "ax.set_ylim(-L, L)\n",
    "plt.show()"
   ]
  },
  {
   "cell_type": "code",
   "execution_count": null,
   "metadata": {},
   "outputs": [],
   "source": [
    "L = 100 + DL\n",
    "\n",
    "fig, ax = plt.subplots(1, 1)\n",
    "cp = ax.contourf(x_mat, y_mat, v_mat_2, levels=25, cmap=\"turbo\")\n",
    "x_r = np.linspace(0, 100, 100)\n",
    "y_r = np.sqrt(1e4 - x_r**2)\n",
    "fig.colorbar(cp)  # Add a colorbar to a plot\n",
    "ax.set_title(\"Acoustic V (m/s) t = 0.4s\")\n",
    "ax.set_xlabel(\"x (m)\")\n",
    "ax.set_ylabel(\"y (m)\")\n",
    "ax.plot(x_r, y_r, color=\"black\")\n",
    "ax.plot(-x_r, y_r, color=\"black\")\n",
    "ax.plot(-x_r, -y_r, color=\"black\")\n",
    "ax.plot(x_r, -y_r, color=\"black\")\n",
    "ax.set_xlim(-L, L)\n",
    "ax.set_ylim(-L, L)\n",
    "plt.show()"
   ]
  },
  {
   "cell_type": "code",
   "execution_count": null,
   "metadata": {},
   "outputs": [],
   "source": [
    "L = 100 + DL\n",
    "\n",
    "fig, ax = plt.subplots(1, 1)\n",
    "cp = ax.contourf(x_mat, y_mat, u_mat_2, levels=25, cmap=\"turbo\")\n",
    "x_r = np.linspace(0, 100, 100)\n",
    "y_r = np.sqrt(1e4 - x_r**2)\n",
    "fig.colorbar(cp)  # Add a colorbar to a plot\n",
    "ax.set_title(\"Acoustic U (m/s) t = 0.4s\")\n",
    "ax.set_xlabel(\"x (m)\")\n",
    "ax.set_ylabel(\"y (m)\")\n",
    "ax.plot(x_r, y_r, color=\"black\")\n",
    "ax.plot(-x_r, y_r, color=\"black\")\n",
    "ax.plot(-x_r, -y_r, color=\"black\")\n",
    "ax.plot(x_r, -y_r, color=\"black\")\n",
    "ax.set_xlim(-L, L)\n",
    "ax.set_ylim(-L, L)\n",
    "plt.show()"
   ]
  },
  {
   "cell_type": "code",
   "execution_count": null,
   "metadata": {},
   "outputs": [],
   "source": []
  }
 ],
 "metadata": {
  "kernelspec": {
   "display_name": "myp",
   "language": "python",
   "name": "python3"
  },
  "language_info": {
   "codemirror_mode": {
    "name": "ipython",
    "version": 3
   },
   "file_extension": ".py",
   "mimetype": "text/x-python",
   "name": "python",
   "nbconvert_exporter": "python",
   "pygments_lexer": "ipython3",
   "version": "3.11.5"
  }
 },
 "nbformat": 4,
 "nbformat_minor": 2
}
